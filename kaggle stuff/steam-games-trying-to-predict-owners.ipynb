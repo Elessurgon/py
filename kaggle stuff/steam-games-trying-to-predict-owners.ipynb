{
 "cells": [
  {
   "cell_type": "code",
   "execution_count": 1,
   "id": "6cb2c65b",
   "metadata": {
    "_cell_guid": "b1076dfc-b9ad-4769-8c92-a6c4dae69d19",
    "_uuid": "8f2839f25d086af736a60e9eeb907d3b93b6e0e5",
    "execution": {
     "iopub.execute_input": "2021-08-26T00:10:54.283529Z",
     "iopub.status.busy": "2021-08-26T00:10:54.281785Z",
     "iopub.status.idle": "2021-08-26T00:10:54.293840Z",
     "shell.execute_reply": "2021-08-26T00:10:54.294340Z",
     "shell.execute_reply.started": "2021-08-25T23:57:29.787174Z"
    },
    "papermill": {
     "duration": 0.025211,
     "end_time": "2021-08-26T00:10:54.294638",
     "exception": false,
     "start_time": "2021-08-26T00:10:54.269427",
     "status": "completed"
    },
    "tags": []
   },
   "outputs": [],
   "source": [
    "import numpy as np\n",
    "import pandas as pd\n",
    "import matplotlib.pyplot as plt"
   ]
  },
  {
   "cell_type": "code",
   "execution_count": 2,
   "id": "d92de5dd",
   "metadata": {
    "execution": {
     "iopub.execute_input": "2021-08-26T00:10:54.312750Z",
     "iopub.status.busy": "2021-08-26T00:10:54.311770Z",
     "iopub.status.idle": "2021-08-26T00:10:54.650995Z",
     "shell.execute_reply": "2021-08-26T00:10:54.650376Z",
     "shell.execute_reply.started": "2021-08-25T23:57:29.794871Z"
    },
    "papermill": {
     "duration": 0.348788,
     "end_time": "2021-08-26T00:10:54.651131",
     "exception": false,
     "start_time": "2021-08-26T00:10:54.302343",
     "status": "completed"
    },
    "tags": []
   },
   "outputs": [],
   "source": [
    "data=pd.read_csv(\"/kaggle/input/steam-store-games/steam.csv\")\n",
    "data=data.drop([\"release_date\", \"steamspy_tags\", \"appid\", \"name\", \"english\", \"steamspy_tags\"], axis=1)"
   ]
  },
  {
   "cell_type": "code",
   "execution_count": 3,
   "id": "4cf1d6ee",
   "metadata": {
    "execution": {
     "iopub.execute_input": "2021-08-26T00:10:54.680295Z",
     "iopub.status.busy": "2021-08-26T00:10:54.679404Z",
     "iopub.status.idle": "2021-08-26T00:10:58.049901Z",
     "shell.execute_reply": "2021-08-26T00:10:58.049262Z",
     "shell.execute_reply.started": "2021-08-25T23:57:29.972951Z"
    },
    "papermill": {
     "duration": 3.392135,
     "end_time": "2021-08-26T00:10:58.050061",
     "exception": false,
     "start_time": "2021-08-26T00:10:54.657926",
     "status": "completed"
    },
    "tags": []
   },
   "outputs": [],
   "source": [
    "platforms = data['platforms'].str.get_dummies(sep=';')\n",
    "genres = data['genres'].str.get_dummies(sep=';')\n",
    "categories = data['categories'].str.get_dummies(sep=';')\n",
    "\n",
    "\n",
    "from sklearn.model_selection import train_test_split\n",
    "y = data.owners\n",
    "X = data.drop(['owners', 'categories', 'genres', 'platforms'], axis = 1)\n",
    "\n",
    "X = pd.concat([X,platforms, genres, categories],axis=1)\n",
    "# X.info()"
   ]
  },
  {
   "cell_type": "code",
   "execution_count": 4,
   "id": "c7b8a932",
   "metadata": {
    "execution": {
     "iopub.execute_input": "2021-08-26T00:10:58.093952Z",
     "iopub.status.busy": "2021-08-26T00:10:58.088486Z",
     "iopub.status.idle": "2021-08-26T00:10:58.281481Z",
     "shell.execute_reply": "2021-08-26T00:10:58.280950Z",
     "shell.execute_reply.started": "2021-08-25T23:57:32.431755Z"
    },
    "papermill": {
     "duration": 0.224131,
     "end_time": "2021-08-26T00:10:58.281627",
     "exception": false,
     "start_time": "2021-08-26T00:10:58.057496",
     "status": "completed"
    },
    "tags": []
   },
   "outputs": [],
   "source": [
    "def point_estimation(r):\n",
    "    rng = r.split('-')\n",
    "    rng[0] = int(rng[0])\n",
    "    rng[1] = int(rng[1])\n",
    "    return (rng[0] + rng[1]) / 2\n",
    "\n",
    "lst = []\n",
    "for i in range(len(y)):\n",
    "    lst.append(point_estimation(y[i]))\n",
    "\n",
    "y = pd.DataFrame(lst)\n",
    "\n",
    "X_train, X_valid, y_train, y_valid = train_test_split(X, y, train_size=0.8, test_size=0.2, \n",
    "                                                                random_state=0)\n"
   ]
  },
  {
   "cell_type": "code",
   "execution_count": 5,
   "id": "0265be78",
   "metadata": {
    "execution": {
     "iopub.execute_input": "2021-08-26T00:10:58.301399Z",
     "iopub.status.busy": "2021-08-26T00:10:58.300626Z",
     "iopub.status.idle": "2021-08-26T00:10:58.303909Z",
     "shell.execute_reply": "2021-08-26T00:10:58.303399Z",
     "shell.execute_reply.started": "2021-08-25T23:57:32.612407Z"
    },
    "papermill": {
     "duration": 0.015606,
     "end_time": "2021-08-26T00:10:58.304063",
     "exception": false,
     "start_time": "2021-08-26T00:10:58.288457",
     "status": "completed"
    },
    "tags": []
   },
   "outputs": [],
   "source": [
    "s = (X_train.dtypes == 'object')\n",
    "object_cols = list(s[s].index)"
   ]
  },
  {
   "cell_type": "code",
   "execution_count": 6,
   "id": "980252ec",
   "metadata": {
    "execution": {
     "iopub.execute_input": "2021-08-26T00:10:58.327285Z",
     "iopub.status.busy": "2021-08-26T00:10:58.326420Z",
     "iopub.status.idle": "2021-08-26T00:10:58.739163Z",
     "shell.execute_reply": "2021-08-26T00:10:58.738474Z"
    },
    "papermill": {
     "duration": 0.428481,
     "end_time": "2021-08-26T00:10:58.739441",
     "exception": true,
     "start_time": "2021-08-26T00:10:58.310960",
     "status": "failed"
    },
    "tags": []
   },
   "outputs": [
    {
     "ename": "TypeError",
     "evalue": "__init__() got an unexpected keyword argument 'verbose'",
     "output_type": "error",
     "traceback": [
      "\u001b[0;31m---------------------------------------------------------------------------\u001b[0m",
      "\u001b[0;31mTypeError\u001b[0m                                 Traceback (most recent call last)",
      "\u001b[0;32m<ipython-input-6-3d4ee69d23dc>\u001b[0m in \u001b[0;36m<module>\u001b[0;34m\u001b[0m\n\u001b[1;32m     13\u001b[0m \u001b[0mmodel3\u001b[0m \u001b[0;34m=\u001b[0m \u001b[0mXGBRegressor\u001b[0m\u001b[0;34m(\u001b[0m\u001b[0;34m)\u001b[0m\u001b[0;34m\u001b[0m\u001b[0;34m\u001b[0m\u001b[0m\n\u001b[1;32m     14\u001b[0m \u001b[0mmodel4\u001b[0m \u001b[0;34m=\u001b[0m \u001b[0mlassoReg\u001b[0m \u001b[0;34m=\u001b[0m \u001b[0mlinear_model\u001b[0m\u001b[0;34m.\u001b[0m\u001b[0mLasso\u001b[0m\u001b[0;34m(\u001b[0m\u001b[0malpha\u001b[0m\u001b[0;34m=\u001b[0m\u001b[0;36m0.1\u001b[0m\u001b[0;34m)\u001b[0m\u001b[0;34m\u001b[0m\u001b[0;34m\u001b[0m\u001b[0m\n\u001b[0;32m---> 15\u001b[0;31m \u001b[0mmodel5\u001b[0m \u001b[0;34m=\u001b[0m \u001b[0mLinearRegression\u001b[0m\u001b[0;34m(\u001b[0m\u001b[0mverbose\u001b[0m \u001b[0;34m=\u001b[0m \u001b[0;36m2\u001b[0m\u001b[0;34m)\u001b[0m\u001b[0;34m\u001b[0m\u001b[0;34m\u001b[0m\u001b[0m\n\u001b[0m\u001b[1;32m     16\u001b[0m \u001b[0;34m\u001b[0m\u001b[0m\n\u001b[1;32m     17\u001b[0m categorical_transformer = Pipeline(steps=[\n",
      "\u001b[0;32m/opt/conda/lib/python3.7/site-packages/sklearn/utils/validation.py\u001b[0m in \u001b[0;36minner_f\u001b[0;34m(*args, **kwargs)\u001b[0m\n\u001b[1;32m     70\u001b[0m                           FutureWarning)\n\u001b[1;32m     71\u001b[0m         \u001b[0mkwargs\u001b[0m\u001b[0;34m.\u001b[0m\u001b[0mupdate\u001b[0m\u001b[0;34m(\u001b[0m\u001b[0;34m{\u001b[0m\u001b[0mk\u001b[0m\u001b[0;34m:\u001b[0m \u001b[0marg\u001b[0m \u001b[0;32mfor\u001b[0m \u001b[0mk\u001b[0m\u001b[0;34m,\u001b[0m \u001b[0marg\u001b[0m \u001b[0;32min\u001b[0m \u001b[0mzip\u001b[0m\u001b[0;34m(\u001b[0m\u001b[0msig\u001b[0m\u001b[0;34m.\u001b[0m\u001b[0mparameters\u001b[0m\u001b[0;34m,\u001b[0m \u001b[0margs\u001b[0m\u001b[0;34m)\u001b[0m\u001b[0;34m}\u001b[0m\u001b[0;34m)\u001b[0m\u001b[0;34m\u001b[0m\u001b[0;34m\u001b[0m\u001b[0m\n\u001b[0;32m---> 72\u001b[0;31m         \u001b[0;32mreturn\u001b[0m \u001b[0mf\u001b[0m\u001b[0;34m(\u001b[0m\u001b[0;34m**\u001b[0m\u001b[0mkwargs\u001b[0m\u001b[0;34m)\u001b[0m\u001b[0;34m\u001b[0m\u001b[0;34m\u001b[0m\u001b[0m\n\u001b[0m\u001b[1;32m     73\u001b[0m     \u001b[0;32mreturn\u001b[0m \u001b[0minner_f\u001b[0m\u001b[0;34m\u001b[0m\u001b[0;34m\u001b[0m\u001b[0m\n\u001b[1;32m     74\u001b[0m \u001b[0;34m\u001b[0m\u001b[0m\n",
      "\u001b[0;31mTypeError\u001b[0m: __init__() got an unexpected keyword argument 'verbose'"
     ]
    }
   ],
   "source": [
    "from sklearn.compose import ColumnTransformer\n",
    "from sklearn.pipeline import Pipeline\n",
    "from sklearn.preprocessing import OneHotEncoder\n",
    "from sklearn.ensemble import RandomForestRegressor\n",
    "from sklearn.linear_model import LogisticRegression\n",
    "from sklearn.metrics import mean_absolute_error\n",
    "from sklearn import linear_model\n",
    "from xgboost import XGBRegressor\n",
    "from sklearn.linear_model import LinearRegression\n",
    "\n",
    "model1 = RandomForestRegressor(n_estimators=100, random_state=0, verbose = 2)\n",
    "model2 = LogisticRegression(solver='liblinear')\n",
    "model3 = XGBRegressor()\n",
    "model4 = lassoReg = linear_model.Lasso(alpha=0.1)\n",
    "model5 = LinearRegression(verbose = 2)\n",
    "\n",
    "categorical_transformer = Pipeline(steps=[\n",
    "    ('onehot', OneHotEncoder(handle_unknown='ignore'))\n",
    "])\n",
    "\n",
    "preprocessor = ColumnTransformer(\n",
    "    transformers=[\n",
    "        ('cat', categorical_transformer, object_cols)\n",
    "    ])\n",
    "\n",
    "my_pipeline = Pipeline(steps=[('preprocessor', preprocessor),\n",
    "                              ('model', model3)\n",
    "                             ])\n",
    "\n",
    "my_pipeline.fit(X_train, y_train[0])\n",
    "preds = my_pipeline.predict(X_valid)\n",
    "score = mean_absolute_error(y_valid[0], preds)\n",
    "print('MAE:', score)"
   ]
  },
  {
   "cell_type": "code",
   "execution_count": null,
   "id": "144d9bdb",
   "metadata": {
    "papermill": {
     "duration": null,
     "end_time": null,
     "exception": null,
     "start_time": null,
     "status": "pending"
    },
    "tags": []
   },
   "outputs": [],
   "source": []
  }
 ],
 "metadata": {
  "kernelspec": {
   "display_name": "Python 3",
   "language": "python",
   "name": "python3"
  },
  "language_info": {
   "codemirror_mode": {
    "name": "ipython",
    "version": 3
   },
   "file_extension": ".py",
   "mimetype": "text/x-python",
   "name": "python",
   "nbconvert_exporter": "python",
   "pygments_lexer": "ipython3",
   "version": "3.7.10"
  },
  "papermill": {
   "default_parameters": {},
   "duration": 13.407746,
   "end_time": "2021-08-26T00:10:59.457624",
   "environment_variables": {},
   "exception": true,
   "input_path": "__notebook__.ipynb",
   "output_path": "__notebook__.ipynb",
   "parameters": {},
   "start_time": "2021-08-26T00:10:46.049878",
   "version": "2.3.3"
  }
 },
 "nbformat": 4,
 "nbformat_minor": 5
}
